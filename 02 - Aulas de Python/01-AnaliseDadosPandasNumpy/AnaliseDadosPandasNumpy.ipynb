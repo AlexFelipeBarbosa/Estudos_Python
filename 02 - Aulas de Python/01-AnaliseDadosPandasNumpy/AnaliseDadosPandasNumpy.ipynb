{
 "cells": [
  {
   "cell_type": "markdown",
   "metadata": {},
   "source": [
    " Alex Barbosa - 20/04/2024\n",
    " Curso de Python - Analise de Dados com Pandas e Numpy\n",
    "\n",
    " https://www.youtube.com/watch?v=FZODEbfcDwU"
   ]
  },
  {
   "cell_type": "code",
   "execution_count": 1,
   "metadata": {},
   "outputs": [],
   "source": [
    "# Variaveis e Tipos de Dados\n",
    "\n",
    "# Exemplo de variaveis\n",
    "nome = \"Maria\"\n",
    "print(nome)"
   ]
  }
 ],
 "metadata": {
  "kernelspec": {
   "display_name": "base",
   "language": "python",
   "name": "python3"
  },
  "language_info": {
   "codemirror_mode": {
    "name": "ipython",
    "version": 3
   },
   "file_extension": ".py",
   "mimetype": "text/x-python",
   "name": "python",
   "nbconvert_exporter": "python",
   "pygments_lexer": "ipython3",
   "version": "3.11.7"
  }
 },
 "nbformat": 4,
 "nbformat_minor": 2
}
