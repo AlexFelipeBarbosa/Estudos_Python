{
 "cells": [
  {
   "cell_type": "markdown",
   "metadata": {},
   "source": [
    " ## Alex Barbosa - 20/04/2024\n",
    " ### Curso de Python - Analise de Dados com Pandas e Numpy\n",
    " - Estrutura Basica do Python\n",
    "\n",
    " https://www.youtube.com/watch?v=FZODEbfcDwU"
   ]
  },
  {
   "cell_type": "code",
   "execution_count": 6,
   "metadata": {},
   "outputs": [
    {
     "name": "stdout",
     "output_type": "stream",
     "text": [
      "Maria\n"
     ]
    },
    {
     "data": {
      "text/plain": [
       "str"
      ]
     },
     "execution_count": 6,
     "metadata": {},
     "output_type": "execute_result"
    }
   ],
   "source": [
    "# Variaveis e Tipos de Dados\n",
    "\n",
    "# Exemplo de variaveis\n",
    "nome = \"Maria\"\n",
    "print(nome)\n",
    "\n",
    "# Tipo da Variavel\n",
    "type(nome)"
   ]
  },
  {
   "cell_type": "code",
   "execution_count": 12,
   "metadata": {},
   "outputs": [
    {
     "name": "stdout",
     "output_type": "stream",
     "text": [
      "Subtração:  5\n",
      "Soma:  15\n",
      "Divisão:  2.0\n",
      "Multiplicação:  50\n"
     ]
    }
   ],
   "source": [
    "# Operações Matematicas Basicas\n",
    "subtracao = 10-5\n",
    "print(\"Subtração: \", subtracao)\n",
    "\n",
    "soma = 10 + 5\n",
    "print(\"Soma: \", soma)\n",
    "\n",
    "divisao = 10 / 5\n",
    "print(\"Divisão: \", divisao)\n",
    "\n",
    "multiplicacao = 10 * 5\n",
    "print(\"Multiplicação: \", multiplicacao)"
   ]
  },
  {
   "cell_type": "code",
   "execution_count": 15,
   "metadata": {},
   "outputs": [
    {
     "name": "stdout",
     "output_type": "stream",
     "text": [
      "Entrada NÃO Permitida\n"
     ]
    }
   ],
   "source": [
    "# Estrutura de Controle De Fluxo\n",
    "# Condicional\n",
    "idade = 17\n",
    "\n",
    "if idade >= 18:\n",
    "  print(\"Entrada Liberada\")\n",
    "else:\n",
    "  print(\"Entrada NÃO Permitida\")"
   ]
  },
  {
   "cell_type": "code",
   "execution_count": 2,
   "metadata": {},
   "outputs": [
    {
     "name": "stdout",
     "output_type": "stream",
     "text": [
      "0\n",
      "1\n",
      "2\n",
      "3\n",
      "4\n"
     ]
    }
   ],
   "source": [
    "# Estrutura de repetição\n",
    "# FOR\n",
    "for i in range(5):\n",
    "  print(i)"
   ]
  },
  {
   "cell_type": "code",
   "execution_count": 5,
   "metadata": {},
   "outputs": [
    {
     "name": "stdout",
     "output_type": "stream",
     "text": [
      "0\n",
      "1\n",
      "2\n",
      "3\n",
      "João\n",
      "Maria\n",
      "Jose\n"
     ]
    }
   ],
   "source": [
    "# Listas e Loops \n",
    "\n",
    "# Exmplo de Lista\n",
    "lista = [0, 1, 2, 3]\n",
    "\n",
    "# Loop através de uma lista\n",
    "for num in lista:\n",
    "  print(num)\n",
    "  \n",
    "lista_nomes = [\"João\", \"Maria\", \"Jose\"]  \n",
    "for nome in lista_nomes:\n",
    "  print(nome)\n",
    "  "
   ]
  },
  {
   "cell_type": "code",
   "execution_count": 7,
   "metadata": {},
   "outputs": [
    {
     "name": "stdout",
     "output_type": "stream",
     "text": [
      "Olá Alex seja bem vindo!\n"
     ]
    }
   ],
   "source": [
    "# Funções\n",
    "def saudacao(nome):\n",
    "  print(f\"Olá {nome} seja bem vindo!\")\n",
    "  \n",
    "saudacao('Alex')  "
   ]
  },
  {
   "cell_type": "code",
   "execution_count": 2,
   "metadata": {},
   "outputs": [
    {
     "name": "stdout",
     "output_type": "stream",
     "text": [
      "Olá Alex sejá bem vindo! - Você tem 41 anos\n"
     ]
    }
   ],
   "source": [
    "# Exemplo 2 de funções\n",
    "def saudacao2(nome, idade):\n",
    "  print(f\"Olá {nome} sejá bem vindo! - Você tem {idade} anos\")\n",
    "  \n",
    "saudacao2(\"Alex\", 41)  \n",
    "  "
   ]
  }
 ],
 "metadata": {
  "kernelspec": {
   "display_name": "base",
   "language": "python",
   "name": "python3"
  },
  "language_info": {
   "codemirror_mode": {
    "name": "ipython",
    "version": 3
   },
   "file_extension": ".py",
   "mimetype": "text/x-python",
   "name": "python",
   "nbconvert_exporter": "python",
   "pygments_lexer": "ipython3",
   "version": "3.11.7"
  }
 },
 "nbformat": 4,
 "nbformat_minor": 2
}
