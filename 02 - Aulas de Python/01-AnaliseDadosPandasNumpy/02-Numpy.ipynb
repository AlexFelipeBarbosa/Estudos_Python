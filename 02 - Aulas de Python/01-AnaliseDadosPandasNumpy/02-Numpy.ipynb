{
 "cells": [
  {
   "cell_type": "markdown",
   "metadata": {},
   "source": [
    " ## Alex Barbosa - 20/04/2024\n",
    " ### Curso de Python - Analise de Dados com Pandas e Numpy\n",
    " - Manipulação de Dados Numpy\n",
    "\n",
    " https://www.youtube.com/watch?v=FZODEbfcDwU"
   ]
  },
  {
   "cell_type": "code",
   "execution_count": 1,
   "metadata": {},
   "outputs": [],
   "source": [
    "# Importando a biblioteca Numpy\n",
    "import numpy as np"
   ]
  },
  {
   "cell_type": "code",
   "execution_count": 12,
   "metadata": {},
   "outputs": [
    {
     "name": "stdout",
     "output_type": "stream",
     "text": [
      "[10 20 30 40 50]\n",
      "Multiplicando:  [ 20  40  60  80 100]\n",
      "Somando:  [110 120 130 140 150]\n"
     ]
    },
    {
     "data": {
      "text/plain": [
       "30.0"
      ]
     },
     "execution_count": 12,
     "metadata": {},
     "output_type": "execute_result"
    }
   ],
   "source": [
    "# Criando uma Matrix\n",
    "matrix = np.array([10,20,30,40,50])\n",
    "print(matrix)\n",
    "type(matrix)\n",
    "\n",
    "# Operações Matematicas\n",
    "print(\"Multiplicando: \",matrix * 2)\n",
    "print(\"Somando: \", matrix + 100)\n",
    "\n",
    "# Média\n",
    "np.mean(matrix)\n"
   ]
  }
 ],
 "metadata": {
  "kernelspec": {
   "display_name": "base",
   "language": "python",
   "name": "python3"
  },
  "language_info": {
   "codemirror_mode": {
    "name": "ipython",
    "version": 3
   },
   "file_extension": ".py",
   "mimetype": "text/x-python",
   "name": "python",
   "nbconvert_exporter": "python",
   "pygments_lexer": "ipython3",
   "version": "3.11.7"
  }
 },
 "nbformat": 4,
 "nbformat_minor": 2
}
